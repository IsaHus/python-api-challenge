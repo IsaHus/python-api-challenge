{
 "cells": [
  {
   "cell_type": "markdown",
   "metadata": {},
   "source": [
    "# WeatherPy\n",
    "\n",
    "---\n",
    "\n",
    "## Starter Code to Generate Random Geographic Coordinates and a List of Cities"
   ]
  },
  {
   "cell_type": "code",
   "execution_count": null,
   "metadata": {
    "scrolled": true
   },
   "outputs": [],
   "source": [
    "# Dependencies and Setup\n",
    "import matplotlib.pyplot as plt\n",
    "import pandas as pd\n",
    "import numpy as np\n",
    "import requests\n",
    "import time\n",
    "from scipy.stats import linregress\n",
    "\n",
    "# Impor the OpenWeatherMap API key\n",
    "from api_keys import weather_api_key\n",
    "\n",
    "# Import citipy to determine the cities based on latitude and longitude\n",
    "from citipy import citipy\n",
    "\n",
    "\n"
   ]
  },
  {
   "cell_type": "markdown",
   "metadata": {},
   "source": [
    "### Generate the Cities List by Using the `citipy` Library"
   ]
  },
  {
   "cell_type": "code",
   "execution_count": 8,
   "metadata": {},
   "outputs": [
    {
     "name": "stdout",
     "output_type": "stream",
     "text": [
      "Number of cities in the list: 618\n"
     ]
    }
   ],
   "source": [
    "# Empty list for holding the latitude and longitude combinations\n",
    "lat_lngs = []\n",
    "\n",
    "# Empty list for holding the cities names\n",
    "cities = []\n",
    "\n",
    "# Range of latitudes and longitudes\n",
    "lat_range = (-90, 90)\n",
    "lng_range = (-180, 180)\n",
    "\n",
    "# Create a set of random lat and lng combinations\n",
    "lats = np.random.uniform(lat_range[0], lat_range[1], size=1500)\n",
    "lngs = np.random.uniform(lng_range[0], lng_range[1], size=1500)\n",
    "lat_lngs = zip(lats, lngs)\n",
    "\n",
    "# Identify nearest city for each lat, lng combination\n",
    "for lat_lng in lat_lngs:\n",
    "    city = citipy.nearest_city(lat_lng[0], lat_lng[1]).city_name\n",
    "\n",
    "    # If the city is unique, then add it to a our cities list\n",
    "    if city not in cities:\n",
    "        cities.append(city)\n",
    "\n",
    "# Print the city count to confirm sufficient count\n",
    "print(f\"Number of cities in the list: {len(cities)}\")"
   ]
  },
  {
   "cell_type": "markdown",
   "metadata": {},
   "source": [
    "---"
   ]
  },
  {
   "cell_type": "markdown",
   "metadata": {},
   "source": [
    "## Requirement 1: Create Plots to Showcase the Relationship Between Weather Variables and Latitude\n",
    "\n",
    "### Use the OpenWeatherMap API to retrieve weather data from the cities list generated in the started code"
   ]
  },
  {
   "cell_type": "code",
   "execution_count": null,
   "metadata": {
    "scrolled": true
   },
   "outputs": [
    {
     "name": "stdout",
     "output_type": "stream",
     "text": [
      "Beginning Data Retrieval     \n",
      "-----------------------------\n",
      "Processing Record 1 of Set 1 | ushuaia\n",
      "City not found. Skipping...\n",
      "Processing Record 2 of Set 1 | bethel\n",
      "City not found. Skipping...\n",
      "Processing Record 3 of Set 1 | edinburgh of the seven seas\n",
      "City not found. Skipping...\n",
      "Processing Record 4 of Set 1 | chinchilla\n",
      "City not found. Skipping...\n",
      "Processing Record 5 of Set 1 | sydney mines\n",
      "City not found. Skipping...\n",
      "Processing Record 6 of Set 1 | al fintas\n",
      "City not found. Skipping...\n",
      "Processing Record 7 of Set 1 | yellowknife\n",
      "City not found. Skipping...\n",
      "Processing Record 8 of Set 1 | westport\n",
      "City not found. Skipping...\n",
      "Processing Record 9 of Set 1 | chui\n",
      "City not found. Skipping...\n",
      "Processing Record 10 of Set 1 | timaru\n",
      "City not found. Skipping...\n",
      "Processing Record 11 of Set 1 | port elizabeth\n",
      "City not found. Skipping...\n",
      "Processing Record 12 of Set 1 | avarua\n",
      "City not found. Skipping...\n",
      "Processing Record 13 of Set 1 | sungai penuh\n",
      "City not found. Skipping...\n",
      "Processing Record 14 of Set 1 | joshimath\n",
      "City not found. Skipping...\n",
      "Processing Record 15 of Set 1 | grytviken\n",
      "City not found. Skipping...\n",
      "Processing Record 16 of Set 1 | kibondo\n",
      "City not found. Skipping...\n",
      "Processing Record 17 of Set 1 | ribeira grande\n",
      "City not found. Skipping...\n",
      "Processing Record 18 of Set 1 | namtsy\n",
      "City not found. Skipping...\n",
      "Processing Record 19 of Set 1 | petropavlovsk-kamchatsky\n",
      "City not found. Skipping...\n",
      "Processing Record 20 of Set 1 | margate\n",
      "City not found. Skipping...\n",
      "Processing Record 21 of Set 1 | minas de marcona\n",
      "City not found. Skipping...\n",
      "Processing Record 22 of Set 1 | tubarjal\n",
      "City not found. Skipping...\n",
      "Processing Record 23 of Set 1 | waitangi\n",
      "City not found. Skipping...\n",
      "Processing Record 24 of Set 1 | taiohae\n",
      "City not found. Skipping...\n",
      "Processing Record 25 of Set 1 | lebu\n",
      "City not found. Skipping...\n",
      "Processing Record 26 of Set 1 | port-aux-francais\n",
      "City not found. Skipping...\n",
      "Processing Record 27 of Set 1 | rongelap\n",
      "City not found. Skipping...\n",
      "Processing Record 28 of Set 1 | strezhevoy\n",
      "City not found. Skipping...\n",
      "Processing Record 29 of Set 1 | wailua homesteads\n",
      "City not found. Skipping...\n",
      "Processing Record 30 of Set 1 | thunder bay\n",
      "City not found. Skipping...\n",
      "Processing Record 31 of Set 1 | invercargill\n",
      "City not found. Skipping...\n",
      "Processing Record 32 of Set 1 | morondava\n",
      "City not found. Skipping...\n",
      "Processing Record 33 of Set 1 | qaqortoq\n",
      "City not found. Skipping...\n",
      "Processing Record 34 of Set 1 | olonkinbyen\n",
      "City not found. Skipping...\n",
      "Processing Record 35 of Set 1 | port mathurin\n",
      "City not found. Skipping...\n",
      "Processing Record 36 of Set 1 | margaret river\n",
      "City not found. Skipping...\n",
      "Processing Record 37 of Set 1 | kapuskasing\n",
      "City not found. Skipping...\n",
      "Processing Record 38 of Set 1 | waingapu\n",
      "City not found. Skipping...\n",
      "Processing Record 39 of Set 1 | peniche\n",
      "City not found. Skipping...\n",
      "Processing Record 40 of Set 1 | mabamba\n",
      "City not found. Skipping...\n",
      "Processing Record 41 of Set 1 | tianfu\n",
      "City not found. Skipping...\n",
      "Processing Record 42 of Set 1 | iqaluit\n",
      "City not found. Skipping...\n",
      "Processing Record 43 of Set 1 | kerikeri\n",
      "City not found. Skipping...\n",
      "Processing Record 44 of Set 1 | puerto ayora\n",
      "City not found. Skipping...\n",
      "Processing Record 45 of Set 1 | krasavino\n",
      "City not found. Skipping...\n",
      "Processing Record 46 of Set 1 | papatowai\n",
      "City not found. Skipping...\n",
      "Processing Record 47 of Set 1 | blackmans bay\n",
      "City not found. Skipping...\n",
      "Processing Record 48 of Set 1 | camana\n",
      "City not found. Skipping...\n",
      "Processing Record 49 of Set 1 | adamstown\n",
      "City not found. Skipping...\n",
      "Processing Record 50 of Set 1 | puerto natales\n",
      "City not found. Skipping...\n",
      "Processing Record 0 of Set 2 | gadzhiyevo\n",
      "City not found. Skipping...\n",
      "Processing Record 1 of Set 2 | thompson\n",
      "City not found. Skipping...\n",
      "Processing Record 2 of Set 2 | darwin\n",
      "City not found. Skipping...\n",
      "Processing Record 3 of Set 2 | esikhaleni\n",
      "City not found. Skipping...\n",
      "Processing Record 4 of Set 2 | anadyr\n",
      "City not found. Skipping...\n",
      "Processing Record 5 of Set 2 | agua prieta\n",
      "City not found. Skipping...\n",
      "Processing Record 6 of Set 2 | happy valley-goose bay\n",
      "City not found. Skipping...\n",
      "Processing Record 7 of Set 2 | longyearbyen\n",
      "City not found. Skipping...\n",
      "Processing Record 8 of Set 2 | talnakh\n",
      "City not found. Skipping...\n",
      "Processing Record 9 of Set 2 | albany\n",
      "City not found. Skipping...\n",
      "Processing Record 10 of Set 2 | kingston\n",
      "City not found. Skipping...\n",
      "Processing Record 11 of Set 2 | hamilton\n",
      "City not found. Skipping...\n",
      "Processing Record 12 of Set 2 | meadow lakes\n",
      "City not found. Skipping...\n",
      "Processing Record 13 of Set 2 | hawaiian paradise park\n",
      "City not found. Skipping...\n",
      "Processing Record 14 of Set 2 | epernay\n",
      "City not found. Skipping...\n",
      "Processing Record 15 of Set 2 | aasiaat\n",
      "City not found. Skipping...\n",
      "Processing Record 16 of Set 2 | udachny\n",
      "City not found. Skipping...\n",
      "Processing Record 17 of Set 2 | cam ranh\n",
      "City not found. Skipping...\n",
      "Processing Record 18 of Set 2 | marondera\n",
      "City not found. Skipping...\n",
      "Processing Record 19 of Set 2 | kiunga\n",
      "City not found. Skipping...\n",
      "Processing Record 20 of Set 2 | lienz\n",
      "City not found. Skipping...\n",
      "Processing Record 21 of Set 2 | hithadhoo\n",
      "City not found. Skipping...\n",
      "Processing Record 22 of Set 2 | keflavik\n",
      "City not found. Skipping...\n",
      "Processing Record 23 of Set 2 | lihue\n",
      "City not found. Skipping...\n",
      "Processing Record 24 of Set 2 | ilulissat\n",
      "City not found. Skipping...\n",
      "Processing Record 25 of Set 2 | tupelo\n",
      "City not found. Skipping...\n",
      "Processing Record 26 of Set 2 | bilibino\n",
      "City not found. Skipping...\n",
      "Processing Record 27 of Set 2 | hohhot\n",
      "City not found. Skipping...\n",
      "Processing Record 28 of Set 2 | penzance\n",
      "City not found. Skipping...\n",
      "Processing Record 29 of Set 2 | santa ana\n",
      "City not found. Skipping...\n",
      "Processing Record 30 of Set 2 | gandajika\n",
      "City not found. Skipping...\n",
      "Processing Record 31 of Set 2 | ar rutbah\n",
      "City not found. Skipping...\n",
      "Processing Record 32 of Set 2 | zinapecuaro\n",
      "City not found. Skipping...\n",
      "Processing Record 33 of Set 2 | caucete\n",
      "City not found. Skipping...\n",
      "Processing Record 34 of Set 2 | hunchun\n",
      "City not found. Skipping...\n",
      "Processing Record 35 of Set 2 | enewetak\n",
      "City not found. Skipping...\n",
      "Processing Record 36 of Set 2 | undurkhaan\n",
      "City not found. Skipping...\n",
      "Processing Record 37 of Set 2 | port lincoln\n",
      "City not found. Skipping...\n",
      "Processing Record 38 of Set 2 | ust'-uda\n",
      "City not found. Skipping...\n",
      "Processing Record 39 of Set 2 | lyskovo\n",
      "City not found. Skipping...\n",
      "Processing Record 40 of Set 2 | st. john's\n",
      "City not found. Skipping...\n",
      "Processing Record 41 of Set 2 | ytyk-kyuyel'\n",
      "City not found. Skipping...\n",
      "Processing Record 42 of Set 2 | newman\n",
      "City not found. Skipping...\n",
      "Processing Record 43 of Set 2 | antofagasta\n",
      "City not found. Skipping...\n",
      "Processing Record 44 of Set 2 | tapes\n",
      "City not found. Skipping...\n",
      "Processing Record 45 of Set 2 | whitehorse\n",
      "City not found. Skipping...\n",
      "Processing Record 46 of Set 2 | mulanje\n",
      "City not found. Skipping...\n",
      "Processing Record 47 of Set 2 | stanley\n",
      "City not found. Skipping...\n",
      "Processing Record 48 of Set 2 | nizhneudinsk\n",
      "City not found. Skipping...\n",
      "Processing Record 49 of Set 2 | mabaruma\n",
      "City not found. Skipping...\n",
      "Processing Record 0 of Set 3 | muisne\n",
      "City not found. Skipping...\n",
      "Processing Record 1 of Set 3 | aswan\n",
      "City not found. Skipping...\n",
      "Processing Record 2 of Set 3 | nyanza\n",
      "City not found. Skipping...\n",
      "Processing Record 3 of Set 3 | naze\n",
      "City not found. Skipping...\n",
      "Processing Record 4 of Set 3 | diego de almagro\n",
      "City not found. Skipping...\n",
      "Processing Record 5 of Set 3 | kasane\n",
      "City not found. Skipping...\n",
      "Processing Record 6 of Set 3 | mitsamiouli\n",
      "City not found. Skipping...\n",
      "Processing Record 7 of Set 3 | karratha\n",
      "City not found. Skipping...\n",
      "Processing Record 8 of Set 3 | tazovsky\n",
      "City not found. Skipping...\n",
      "Processing Record 9 of Set 3 | zemio\n",
      "City not found. Skipping...\n",
      "Processing Record 10 of Set 3 | lata\n",
      "City not found. Skipping...\n",
      "Processing Record 11 of Set 3 | boone\n",
      "City not found. Skipping...\n",
      "Processing Record 12 of Set 3 | qamdo\n",
      "City not found. Skipping...\n",
      "Processing Record 13 of Set 3 | rumonge\n",
      "City not found. Skipping...\n",
      "Processing Record 14 of Set 3 | san patricio\n",
      "City not found. Skipping...\n",
      "Processing Record 15 of Set 3 | west island\n",
      "City not found. Skipping...\n",
      "Processing Record 16 of Set 3 | arawa\n",
      "City not found. Skipping...\n",
      "Processing Record 17 of Set 3 | puerto colombia\n",
      "City not found. Skipping...\n",
      "Processing Record 18 of Set 3 | xilin hot\n",
      "City not found. Skipping...\n",
      "Processing Record 19 of Set 3 | porto velho\n",
      "City not found. Skipping...\n",
      "Processing Record 20 of Set 3 | touros\n",
      "City not found. Skipping...\n",
      "Processing Record 21 of Set 3 | college\n",
      "City not found. Skipping...\n",
      "Processing Record 22 of Set 3 | saint-philippe\n",
      "City not found. Skipping...\n",
      "Processing Record 23 of Set 3 | les anglais\n",
      "City not found. Skipping...\n",
      "Processing Record 24 of Set 3 | mukah\n",
      "City not found. Skipping...\n",
      "Processing Record 25 of Set 3 | tsiombe\n",
      "City not found. Skipping...\n",
      "Processing Record 26 of Set 3 | kodiak\n",
      "City not found. Skipping...\n",
      "Processing Record 27 of Set 3 | tukrah\n",
      "City not found. Skipping...\n",
      "Processing Record 28 of Set 3 | dryden\n",
      "City not found. Skipping...\n",
      "Processing Record 29 of Set 3 | hirara\n",
      "City not found. Skipping...\n",
      "Processing Record 30 of Set 3 | cody\n",
      "City not found. Skipping...\n",
      "Processing Record 31 of Set 3 | umatilla\n",
      "City not found. Skipping...\n",
      "Processing Record 32 of Set 3 | goundam\n",
      "City not found. Skipping...\n",
      "Processing Record 33 of Set 3 | leeton\n",
      "City not found. Skipping...\n",
      "Processing Record 34 of Set 3 | altai\n",
      "City not found. Skipping...\n",
      "Processing Record 35 of Set 3 | paita\n",
      "City not found. Skipping...\n",
      "Processing Record 36 of Set 3 | pueblo\n",
      "City not found. Skipping...\n",
      "Processing Record 37 of Set 3 | santa elena de uairen\n",
      "City not found. Skipping...\n",
      "Processing Record 38 of Set 3 | carnarvon\n",
      "City not found. Skipping...\n",
      "Processing Record 39 of Set 3 | utrik\n",
      "City not found. Skipping...\n",
      "Processing Record 40 of Set 3 | jayapura\n",
      "City not found. Skipping...\n",
      "Processing Record 41 of Set 3 | biloela\n",
      "City not found. Skipping...\n",
      "Processing Record 42 of Set 3 | cockburn town\n",
      "City not found. Skipping...\n",
      "Processing Record 43 of Set 3 | homer\n",
      "City not found. Skipping...\n",
      "Processing Record 44 of Set 3 | oranjemund\n",
      "City not found. Skipping...\n",
      "Processing Record 45 of Set 3 | val-d'or\n",
      "City not found. Skipping...\n",
      "Processing Record 46 of Set 3 | junction city\n",
      "City not found. Skipping...\n",
      "Processing Record 47 of Set 3 | martinsicuro\n",
      "City not found. Skipping...\n",
      "Processing Record 48 of Set 3 | tiksi\n",
      "City not found. Skipping...\n",
      "Processing Record 49 of Set 3 | dwarka\n",
      "City not found. Skipping...\n",
      "Processing Record 0 of Set 4 | kourou\n",
      "City not found. Skipping...\n",
      "Processing Record 1 of Set 4 | mudanjiang\n",
      "City not found. Skipping...\n",
      "Processing Record 2 of Set 4 | tolanaro\n",
      "City not found. Skipping...\n",
      "Processing Record 3 of Set 4 | georgetown\n",
      "City not found. Skipping...\n",
      "Processing Record 4 of Set 4 | panaba\n",
      "City not found. Skipping...\n",
      "Processing Record 5 of Set 4 | bodaybo\n",
      "City not found. Skipping...\n",
      "Processing Record 6 of Set 4 | chilliwack\n",
      "City not found. Skipping...\n",
      "Processing Record 7 of Set 4 | hermanus\n",
      "City not found. Skipping...\n"
     ]
    }
   ],
   "source": [
    "# Set the API base URL\n",
    "url = f\"https://api.openweathermap.org/data/2.5/weather?\"\n",
    "\n",
    "# Define an empty list to fetch the weather data for each city\n",
    "city_data = []\n",
    "\n",
    "# Print to logger\n",
    "print(\"Beginning Data Retrieval     \")\n",
    "print(\"-----------------------------\")\n",
    "\n",
    "# Create counters\n",
    "record_count = 1\n",
    "set_count = 1\n",
    "\n",
    "# Loop through all the cities in our list to fetch weather data\n",
    "for i, city in enumerate(cities):\n",
    "\n",
    "    # Group cities in sets of 50 for logging purposes\n",
    "    if (i % 50 == 0 and i >= 50):\n",
    "        set_count += 1\n",
    "        record_count = 0\n",
    "\n",
    "    # Create endpoint URL with each city\n",
    "    city_url = f\"{url}q={city}&units=metric&appid={weather_api_key}\"\n",
    "\n",
    "    # Log the url, record, and set numbers\n",
    "    print(\"Processing Record %s of Set %s | %s\" % (record_count, set_count, city))\n",
    "\n",
    "    # Add 1 to the record count\n",
    "    record_count += 1\n",
    "\n",
    "    # Run an API request for each of the cities\n",
    "    try:\n",
    "        # Parse the JSON and retrieve data\n",
    "        city_weather = (requests.get(city_url)).json()\n",
    "\n",
    "\n",
    "        # Parse out latitude, longitude, max temp, humidity, cloudiness, wind speed, country, and date\n",
    "        city_lat = city_weather[\"coord\"][\"lat\"]\n",
    "        city_lng = city_weather['coord']['lon']\n",
    "        city_temp_max = city_weather['main']['temp_max']\n",
    "        city_humidity = city_weather['main']['humidity']\n",
    "        city_clouds = city_weather['clouds']['all']\n",
    "        city_wind = city_weather['wind']['speed']\n",
    "        city_country = city_weather['sys']['country']\n",
    "        city_date = city_weather[\"dt\"]\n",
    "        # Append the City information into city_data list\n",
    "        city_data.append({\"City\": city,\n",
    "                          \"lat\": city_lat,\n",
    "                          \"Lng\": city_lng,\n",
    "                          \"Max Temp\": city_max_temp,\n",
    "                          \"Humidity\": city_humidity,\n",
    "                          \"Cloudiness\": city_clouds,\n",
    "                          \"Wind Speed\": city_wind,\n",
    "                          \"Country\": city_country,\n",
    "                          \"Date\": city_date})\n",
    "\n",
    "    # If an error is experienced, skip the city\n",
    "    except:\n",
    "        print(\"City not found. Skipping...\")\n",
    "        pass\n",
    "\n",
    "    # pause to avoid rate limiting\n",
    "    time.sleep(1)\n",
    "\n",
    "# Indicate that Data Loading is complete\n",
    "print(\"-----------------------------\")\n",
    "print(\"Data Retrieval Complete      \")\n",
    "print(\"-----------------------------\")"
   ]
  },
  {
   "cell_type": "code",
   "execution_count": null,
   "metadata": {},
   "outputs": [],
   "source": [
    "# Convert the cities weather data into a Pandas DataFrame\n",
    "city_data_df = pd.DataFrame(city_data)\n",
    "\n",
    "# Show Record Count\n",
    "city_data_df.count()\n"
   ]
  },
  {
   "cell_type": "code",
   "execution_count": null,
   "metadata": {},
   "outputs": [],
   "source": [
    "# Display sample data\n",
    "\n",
    "city_data_df.head()"
   ]
  },
  {
   "cell_type": "code",
   "execution_count": null,
   "metadata": {},
   "outputs": [],
   "source": [
    "# Export the City_Data into a csv\n",
    "city_data_df.to_csv(\"output_data/cities.csv\", index_label=\"City_ID\")"
   ]
  },
  {
   "cell_type": "code",
   "execution_count": null,
   "metadata": {},
   "outputs": [],
   "source": [
    "# Read saved data\n",
    "city_data_df = pd.read_csv(\"output_data/cities.csv\", index_col=\"City_ID\")\n",
    "\n",
    "# Display sample data\n",
    "city_data_df.head(5)"
   ]
  },
  {
   "cell_type": "code",
   "execution_count": null,
   "metadata": {},
   "outputs": [],
   "source": [
    "print(city_data_df.columns)\n"
   ]
  },
  {
   "cell_type": "markdown",
   "metadata": {},
   "source": [
    "### Create the Scatter Plots Requested\n",
    "\n",
    "#### Latitude Vs. Temperature"
   ]
  },
  {
   "cell_type": "code",
   "execution_count": null,
   "metadata": {
    "tags": []
   },
   "outputs": [],
   "source": [
    "# Build scatter plot for latitude vs. temperature\n",
    "lat = city_data_df[\"Lat\"]\n",
    "max_temps = city_data_df[\"Max Temp\"]\n",
    "humidity = city_data_df[\"Humidity\"]\n",
    "cloudiness = city_data_df[\"Cloudiness\"]\n",
    "wind_speed = city_data_df[\"Wind Speed\"]\n",
    "\n",
    "\n",
    "plt.scatter(lat, max_temps,  # Sets x and y axes\n",
    "            edgecolor=\"black\", linewidths=1, marker=\"o\",\n",
    "            alpha=0.8, label=\"Cities\")\n",
    "# Incorporate the other graph properties\n",
    "plt.title(f\"City Latitude vs. Max Temperature \"+ time.strftime(\"%x\"))\n",
    "plt.ylabel(\"Max Temperature (F)\")\n",
    "plt.xlabel(\"Latitude\")\n",
    "plt.grid(True)\n",
    "\n",
    "# Save the figure\n",
    "plt.savefig(\"output_data/Fig1.png\")\n",
    "\n",
    "# Show plot\n",
    "plt.show()"
   ]
  },
  {
   "cell_type": "code",
   "execution_count": null,
   "metadata": {},
   "outputs": [],
   "source": []
  },
  {
   "cell_type": "code",
   "execution_count": null,
   "metadata": {},
   "outputs": [],
   "source": []
  },
  {
   "cell_type": "markdown",
   "metadata": {},
   "source": [
    "#### Latitude Vs. Humidity"
   ]
  },
  {
   "cell_type": "code",
   "execution_count": null,
   "metadata": {},
   "outputs": [],
   "source": [
    "# Build the scatter plots for latitude vs. humidity\n",
    "plt.scatter(lats,  # sets x_axis\n",
    "            max_temps,  # sets y_axis\n",
    "            edgecolor=\"black\", linewidths=1, marker=\"o\",\n",
    "            alpha=0.8, label=\"Cities\")\n",
    "\n",
    "# Incorporate the other graph properties\n",
    "plt.title(f\"City Latitude vs. Max Temperature \"+ time.strftime(\"%x\"))\n",
    "plt.ylabel(\"Max Temperature (F)\")\n",
    "plt.xlabel(\"Latitude\")\n",
    "plt.grid(True)\n",
    "\n",
    "# Save the figure\n",
    "plt.savefig(\"output_data/Fig2.png\")\n",
    "\n",
    "# Show plot\n",
    "plt.show()"
   ]
  },
  {
   "cell_type": "markdown",
   "metadata": {},
   "source": [
    "#### Latitude Vs. Cloudiness"
   ]
  },
  {
   "cell_type": "code",
   "execution_count": null,
   "metadata": {},
   "outputs": [],
   "source": [
    "# Build the scatter plots for latitude vs. cloudiness\n",
    "plt.scatter(lats,  # sets x_axis\n",
    "            cloudiness,  # sets y_axis\n",
    "            edgecolor=\"black\", linewidths=1, marker=\"o\",\n",
    "            alpha=0.8, label=\"Cities\")\n",
    "\n",
    "\n",
    "# Incorporate the other graph properties\n",
    "plt.title(f\"City Latitude vs. Cloudiness \"+ time.strftime(\"%x\"))\n",
    "plt.ylabel(\"Cloudiness (%)\")\n",
    "plt.xlabel(\"Latitude\")\n",
    "plt.grid(True)\n",
    "# Save the figure\n",
    "plt.savefig(\"output_data/Fig3.png\")\n",
    "\n",
    "# Show plot\n",
    "plt.show()"
   ]
  },
  {
   "cell_type": "markdown",
   "metadata": {},
   "source": [
    "#### Latitude vs. Wind Speed Plot"
   ]
  },
  {
   "cell_type": "code",
   "execution_count": null,
   "metadata": {},
   "outputs": [],
   "source": [
    "# Build the scatter plots for latitude vs. wind speed\n",
    "plt.scatter(lats,  # sets x_axis\n",
    "            wind_speed,  # sets y_axis\n",
    "            edgecolor=\"black\", linewidths=1, marker=\"o\", \n",
    "            alpha=0.8, label=\"Cities\")\n",
    "\n",
    "# Incorporate the other graph properties\n",
    "plt.title(f\"City Latitude vs. Wind Speed \"+ time.strftime(\"%x\"))\n",
    "plt.ylabel(\"Wind Speed (mph)\")\n",
    "plt.xlabel(\"Latitude\")\n",
    "plt.grid(True)\n",
    "# Save the figure\n",
    "plt.savefig(\"output_data/Fig4.png\")\n",
    "\n",
    "# Show plot\n",
    "plt.show()"
   ]
  },
  {
   "cell_type": "markdown",
   "metadata": {},
   "source": [
    "---\n",
    "\n",
    "## Requirement 2: Compute Linear Regression for Each Relationship\n"
   ]
  },
  {
   "cell_type": "code",
   "execution_count": null,
   "metadata": {},
   "outputs": [],
   "source": [
    "# Define a function to create Linear Regression plots\n",
    "from scipy.stats import linregress"
   ]
  },
  {
   "cell_type": "code",
   "execution_count": null,
   "metadata": {},
   "outputs": [],
   "source": [
    "# Create a DataFrame with the Northern Hemisphere data (Latitude >= 0)\n",
    "northern_hemi_df = city_data_df[city_data_df['Lat'] >= 0]\n",
    "\n",
    "# Display sample data\n",
    "northern_hemi_df.head()"
   ]
  },
  {
   "cell_type": "code",
   "execution_count": null,
   "metadata": {},
   "outputs": [],
   "source": [
    "# Create a DataFrame with the Southern Hemisphere data (Latitude < 0)\n",
    "southern_hemi_df  = city_data_df[city_data_df['Lat'] < 0]\n",
    "\n",
    "# Display sample data\n",
    "southern_hemi_df.head()"
   ]
  },
  {
   "cell_type": "markdown",
   "metadata": {},
   "source": [
    "###  Temperature vs. Latitude Linear Regression Plot"
   ]
  },
  {
   "cell_type": "code",
   "execution_count": null,
   "metadata": {},
   "outputs": [],
   "source": [
    "# Linear regression on Northern Hemisphere\n",
    "x_values = northern_hemi_df[\"Lat\"]\n",
    "y_values = northern_hemi_df[\"Max Temp\"]\n",
    "# Call the function.\n",
    "plot_linear_regression(x_values,\n",
    "                       y_values,\n",
    "                       'Linear Regression on the Northern Hemisphere \\n for Maximum Temperature',\n",
    "                       'Max Temp',(10,40))"
   ]
  },
  {
   "cell_type": "code",
   "execution_count": null,
   "metadata": {},
   "outputs": [],
   "source": [
    "# Linear regression on Southern Hemisphere\n",
    "x_values = southern_hemi_df[\"Lat\"]\n",
    "y_values = southern_hemi_df[\"Max Temp\"]\n",
    "# Call the function.\n",
    "plot_linear_regression(x_values,\n",
    "                       y_values,\n",
    "                       'Linear Regression on the Southern Hemisphere \\n for Maximum Temperature',\n",
    "                       'Max Temp',(-50,90))"
   ]
  },
  {
   "cell_type": "markdown",
   "metadata": {},
   "source": [
    "**Discussion about the linear relationship:** YOUR RESPONSE HERE "
   ]
  },
  {
   "cell_type": "markdown",
   "metadata": {},
   "source": [
    "### Humidity vs. Latitude Linear Regression Plot"
   ]
  },
  {
   "cell_type": "code",
   "execution_count": null,
   "metadata": {},
   "outputs": [],
   "source": [
    "# Northern Hemisphere\n",
    "x_values = northern_hemi_df[\"Lat\"]\n",
    "y_values = northern_hemi_df[\"Humidity\"]\n",
    "# Call the function.\n",
    "plot_linear_regression(x_values,\n",
    "                       y_values,\n",
    "                       \"Linear Regression on the Northern Hemisphere \\n for % Humidity\",\n",
    "                       \"% Humidity\",(40,20))"
   ]
  },
  {
   "cell_type": "code",
   "execution_count": null,
   "metadata": {},
   "outputs": [],
   "source": [
    "# Southern Hemisphere\n",
    "x_values = southern_hemi_df[\"Lat\"]\n",
    "y_values = southern_hemi_df[\"Humidity\"]\n",
    "# Call the function.\n",
    "plot_linear_regression(x_values,\n",
    "                       y_values,\n",
    "                       \"Linear Regression on the Southern Hemisphere \\n for % Humidity\",\n",
    "                       \"% Humidity\",(-25,20))"
   ]
  },
  {
   "cell_type": "markdown",
   "metadata": {},
   "source": [
    "**Discussion about the linear relationship:** YOUR RESPONSE HERE"
   ]
  },
  {
   "cell_type": "markdown",
   "metadata": {},
   "source": [
    "### Cloudiness vs. Latitude Linear Regression Plot"
   ]
  },
  {
   "cell_type": "code",
   "execution_count": null,
   "metadata": {},
   "outputs": [],
   "source": [
    "# Northern Hemisphere\n",
    "x_values = northern_hemi_df[\"Lat\"]\n",
    "y_values = northern_hemi_df[\"Cloudiness\"]\n",
    "# Call the function.\n",
    "plot_linear_regression(x_values,\n",
    "                       y_values,\n",
    "                       \"Linear Regression on the Northern Hemisphere \\n for % Cloudiness\",\n",
    "                       \"% Cloudiness\",(45,5))\n"
   ]
  },
  {
   "cell_type": "code",
   "execution_count": null,
   "metadata": {},
   "outputs": [],
   "source": [
    "# Southern Hemisphere\n",
    "x_values = southern_hemi_df[\"Lat\"]\n",
    "y_values = southern_hemi_df[\"Cloudiness\"]\n",
    "# Call the function.\n",
    "plot_linear_regression(x_values,\n",
    "                       y_values,\n",
    "                       \"Linear Regression on the Southern Hemisphere \\n for % Cloudiness\",\n",
    "                       \"% Cloudiness\",(-50,10))"
   ]
  },
  {
   "cell_type": "markdown",
   "metadata": {},
   "source": [
    "**Discussion about the linear relationship:** YOUR RESPONSE HERE"
   ]
  },
  {
   "cell_type": "markdown",
   "metadata": {},
   "source": [
    "### Wind Speed vs. Latitude Linear Regression Plot"
   ]
  },
  {
   "cell_type": "code",
   "execution_count": null,
   "metadata": {},
   "outputs": [],
   "source": [
    "# Northern Hemisphere\n",
    "x_values = northern_hemi_df[\"Lat\"]\n",
    "y_values = northern_hemi_df[\"Wind Speed\"]\n",
    "# Call the function.\n",
    "plot_linear_regression(x_values,\n",
    "                       y_values,\n",
    "                       \"Linear Regression on the Northern Hemisphere \\n for % Wind Speed\",\n",
    "                       \"% Wind Speed\",(10,40))"
   ]
  },
  {
   "cell_type": "code",
   "execution_count": null,
   "metadata": {},
   "outputs": [],
   "source": [
    "# Southern Hemisphere\n",
    "x_values = southern_hemi_df[\"Lat\"]\n",
    "y_values = southern_hemi_df[\"Wind Speed\"]\n",
    "# Call the function.\n",
    "plot_linear_regression(x_values,\n",
    "                       y_values,\n",
    "                       \"Linear Regression on the Southern Hemisphere \\n for % Wind Speed\",\n",
    "                       \"% Wind Speed\",(-50,20))"
   ]
  },
  {
   "cell_type": "markdown",
   "metadata": {},
   "source": [
    "**Discussion about the linear relationship:** YOUR RESPONSE HERE"
   ]
  },
  {
   "cell_type": "code",
   "execution_count": null,
   "metadata": {},
   "outputs": [],
   "source": []
  },
  {
   "cell_type": "code",
   "execution_count": null,
   "metadata": {},
   "outputs": [],
   "source": []
  },
  {
   "cell_type": "code",
   "execution_count": null,
   "metadata": {},
   "outputs": [],
   "source": []
  },
  {
   "cell_type": "code",
   "execution_count": null,
   "metadata": {},
   "outputs": [],
   "source": []
  },
  {
   "cell_type": "code",
   "execution_count": null,
   "metadata": {},
   "outputs": [],
   "source": []
  },
  {
   "cell_type": "code",
   "execution_count": null,
   "metadata": {},
   "outputs": [],
   "source": []
  },
  {
   "cell_type": "code",
   "execution_count": null,
   "metadata": {},
   "outputs": [],
   "source": []
  },
  {
   "cell_type": "code",
   "execution_count": null,
   "metadata": {},
   "outputs": [],
   "source": []
  },
  {
   "cell_type": "code",
   "execution_count": null,
   "metadata": {},
   "outputs": [],
   "source": []
  },
  {
   "cell_type": "code",
   "execution_count": null,
   "metadata": {},
   "outputs": [],
   "source": []
  }
 ],
 "metadata": {
  "anaconda-cloud": {},
  "kernel_info": {
   "name": "python3"
  },
  "kernelspec": {
   "display_name": "Python 3 (ipykernel)",
   "language": "python",
   "name": "python3"
  },
  "language_info": {
   "codemirror_mode": {
    "name": "ipython",
    "version": 3
   },
   "file_extension": ".py",
   "mimetype": "text/x-python",
   "name": "python",
   "nbconvert_exporter": "python",
   "pygments_lexer": "ipython3",
   "version": "3.11.7"
  },
  "latex_envs": {
   "LaTeX_envs_menu_present": true,
   "autoclose": false,
   "autocomplete": true,
   "bibliofile": "biblio.bib",
   "cite_by": "apalike",
   "current_citInitial": 1,
   "eqLabelWithNumbers": true,
   "eqNumInitial": 1,
   "hotkeys": {
    "equation": "Ctrl-E",
    "itemize": "Ctrl-I"
   },
   "labels_anchors": false,
   "latex_user_defs": false,
   "report_style_numbering": false,
   "user_envs_cfg": false
  },
  "nteract": {
   "version": "0.12.3"
  }
 },
 "nbformat": 4,
 "nbformat_minor": 4
}
